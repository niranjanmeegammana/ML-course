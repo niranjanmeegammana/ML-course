{
  "nbformat": 4,
  "nbformat_minor": 0,
  "metadata": {
    "colab": {
      "provenance": []
    },
    "kernelspec": {
      "name": "python3",
      "display_name": "Python 3"
    },
    "language_info": {
      "name": "python"
    }
  },
  "cells": [
    {
      "cell_type": "markdown",
      "source": [
        "create wine dataframe"
      ],
      "metadata": {
        "id": "y24CeBo_1XNk"
      }
    },
    {
      "cell_type": "code",
      "source": [
        "import pandas as pd\n",
        "from sklearn.datasets import load_wine\n",
        "\n",
        "# Load the Wine dataset\n",
        "wine_data = load_wine()\n",
        "\n",
        "# Create a dataframe with the features and target variable\n",
        "df = pd.DataFrame(data=wine_data.data, columns=wine_data.feature_names)\n",
        "df['target'] = wine_data.target\n",
        "\n",
        "# Display the first few rows of the dataframe\n",
        "print(df.head())\n"
      ],
      "metadata": {
        "colab": {
          "base_uri": "https://localhost:8080/"
        },
        "id": "7Wjfk1E-z4-G",
        "outputId": "10572295-56ab-4c99-8e40-aba7d8e07d97"
      },
      "execution_count": 2,
      "outputs": [
        {
          "output_type": "stream",
          "name": "stdout",
          "text": [
            "   alcohol  malic_acid   ash  alcalinity_of_ash  magnesium  total_phenols  \\\n",
            "0    14.23        1.71  2.43               15.6      127.0           2.80   \n",
            "1    13.20        1.78  2.14               11.2      100.0           2.65   \n",
            "2    13.16        2.36  2.67               18.6      101.0           2.80   \n",
            "3    14.37        1.95  2.50               16.8      113.0           3.85   \n",
            "4    13.24        2.59  2.87               21.0      118.0           2.80   \n",
            "\n",
            "   flavanoids  nonflavanoid_phenols  proanthocyanins  color_intensity   hue  \\\n",
            "0        3.06                  0.28             2.29             5.64  1.04   \n",
            "1        2.76                  0.26             1.28             4.38  1.05   \n",
            "2        3.24                  0.30             2.81             5.68  1.03   \n",
            "3        3.49                  0.24             2.18             7.80  0.86   \n",
            "4        2.69                  0.39             1.82             4.32  1.04   \n",
            "\n",
            "   od280/od315_of_diluted_wines  proline  target  \n",
            "0                          3.92   1065.0       0  \n",
            "1                          3.40   1050.0       0  \n",
            "2                          3.17   1185.0       0  \n",
            "3                          3.45   1480.0       0  \n",
            "4                          2.93    735.0       0  \n"
          ]
        }
      ]
    },
    {
      "cell_type": "code",
      "source": [
        "from sklearn.preprocessing import MinMaxScaler\n",
        "\n",
        "# Separate the features and target variable\n",
        "X = df.drop('target', axis=1)\n",
        "y = df['target']\n",
        "\n",
        "# Create the MinMaxScaler object\n",
        "scaler = MinMaxScaler()\n",
        "\n",
        "# Fit and transform the features\n",
        "X_scaled = scaler.fit_transform(X)\n",
        "\n",
        "# Convert the scaled array back to a dataframe\n",
        "df_regularizedm = pd.DataFrame(X_scaled, columns=X.columns)\n",
        "df_regularizedm['target'] = y  # Add the target variable back to the dataframe\n",
        "print(df_regularizedm.head())\n"
      ],
      "metadata": {
        "colab": {
          "base_uri": "https://localhost:8080/"
        },
        "id": "X1e0gCVt0Lpy",
        "outputId": "54a5c7d7-6bc7-4920-cf31-3b89a82e5cc7"
      },
      "execution_count": 8,
      "outputs": [
        {
          "output_type": "stream",
          "name": "stdout",
          "text": [
            "    alcohol  malic_acid       ash  alcalinity_of_ash  magnesium  \\\n",
            "0  0.842105    0.191700  0.572193           0.257732   0.619565   \n",
            "1  0.571053    0.205534  0.417112           0.030928   0.326087   \n",
            "2  0.560526    0.320158  0.700535           0.412371   0.336957   \n",
            "3  0.878947    0.239130  0.609626           0.319588   0.467391   \n",
            "4  0.581579    0.365613  0.807487           0.536082   0.521739   \n",
            "\n",
            "   total_phenols  flavanoids  nonflavanoid_phenols  proanthocyanins  \\\n",
            "0       0.627586    0.573840              0.283019         0.593060   \n",
            "1       0.575862    0.510549              0.245283         0.274448   \n",
            "2       0.627586    0.611814              0.320755         0.757098   \n",
            "3       0.989655    0.664557              0.207547         0.558360   \n",
            "4       0.627586    0.495781              0.490566         0.444795   \n",
            "\n",
            "   color_intensity       hue  od280/od315_of_diluted_wines   proline  target  \n",
            "0         0.372014  0.455285                      0.970696  0.561341       0  \n",
            "1         0.264505  0.463415                      0.780220  0.550642       0  \n",
            "2         0.375427  0.447154                      0.695971  0.646933       0  \n",
            "3         0.556314  0.308943                      0.798535  0.857347       0  \n",
            "4         0.259386  0.455285                      0.608059  0.325963       0  \n"
          ]
        }
      ]
    },
    {
      "cell_type": "markdown",
      "source": [
        "Regularize"
      ],
      "metadata": {
        "id": "pHOtrxoF1jzu"
      }
    },
    {
      "cell_type": "markdown",
      "source": [
        "regularize the dataframe df using StandardScaler"
      ],
      "metadata": {
        "id": "Nnx4jnZY1sKi"
      }
    },
    {
      "cell_type": "code",
      "source": [
        "from sklearn.preprocessing import StandardScaler\n",
        "\n",
        "# Separate the features and target variable\n",
        "X = df.drop('target', axis=1)\n",
        "y = df['target']\n",
        "\n",
        "# Create the StandardScaler object\n",
        "scaler = StandardScaler()\n",
        "\n",
        "# Fit and transform the features\n",
        "X_scaled = scaler.fit_transform(X)\n",
        "\n",
        "# Convert the scaled array back to a dataframe\n",
        "df_regularizeds = pd.DataFrame(X_scaled, columns=X.columns)\n",
        "df_regularizeds['target'] = y  # Add the target variable back to the dataframe\n",
        "print(df_regularizeds.head())\n"
      ],
      "metadata": {
        "colab": {
          "base_uri": "https://localhost:8080/"
        },
        "id": "ZC7fPL_619t-",
        "outputId": "63baae20-764f-4aa7-b555-8cf93dcc2ff7"
      },
      "execution_count": 9,
      "outputs": [
        {
          "output_type": "stream",
          "name": "stdout",
          "text": [
            "    alcohol  malic_acid       ash  alcalinity_of_ash  magnesium  \\\n",
            "0  1.518613   -0.562250  0.232053          -1.169593   1.913905   \n",
            "1  0.246290   -0.499413 -0.827996          -2.490847   0.018145   \n",
            "2  0.196879    0.021231  1.109334          -0.268738   0.088358   \n",
            "3  1.691550   -0.346811  0.487926          -0.809251   0.930918   \n",
            "4  0.295700    0.227694  1.840403           0.451946   1.281985   \n",
            "\n",
            "   total_phenols  flavanoids  nonflavanoid_phenols  proanthocyanins  \\\n",
            "0       0.808997    1.034819             -0.659563         1.224884   \n",
            "1       0.568648    0.733629             -0.820719        -0.544721   \n",
            "2       0.808997    1.215533             -0.498407         2.135968   \n",
            "3       2.491446    1.466525             -0.981875         1.032155   \n",
            "4       0.808997    0.663351              0.226796         0.401404   \n",
            "\n",
            "   color_intensity       hue  od280/od315_of_diluted_wines   proline  target  \n",
            "0         0.251717  0.362177                      1.847920  1.013009       0  \n",
            "1        -0.293321  0.406051                      1.113449  0.965242       0  \n",
            "2         0.269020  0.318304                      0.788587  1.395148       0  \n",
            "3         1.186068 -0.427544                      1.184071  2.334574       0  \n",
            "4        -0.319276  0.362177                      0.449601 -0.037874       0  \n"
          ]
        }
      ]
    },
    {
      "cell_type": "markdown",
      "source": [
        "compare values"
      ],
      "metadata": {
        "id": "6j3GUQb12q57"
      }
    },
    {
      "cell_type": "code",
      "source": [
        "# Assuming you have already regularized df1 and df2 using StandardScaler as shown in the previous example\n",
        "\n",
        "# Select the first record from df1\n",
        "first_record_dfm = df_regularizedm.iloc[0]\n",
        "\n",
        "# Select the first record from df2\n",
        "first_record_dfs = df_regularizeds.iloc[0]\n",
        "\n",
        "# Compare the values of the first records\n",
        "comparison_result = first_record_dfm.equals(first_record_dfs)\n",
        "\n",
        "# Print the comparison result\n",
        "print(\"Comparison Result:\", comparison_result)\n"
      ],
      "metadata": {
        "colab": {
          "base_uri": "https://localhost:8080/"
        },
        "id": "P4-TKFku2bq0",
        "outputId": "5e69cba5-6b78-4a93-ea65-643cfce7e2fd"
      },
      "execution_count": 11,
      "outputs": [
        {
          "output_type": "stream",
          "name": "stdout",
          "text": [
            "Comparison Result: False\n"
          ]
        }
      ]
    },
    {
      "cell_type": "markdown",
      "source": [
        "extract a single record"
      ],
      "metadata": {
        "id": "k1Zrapv55qXW"
      }
    },
    {
      "cell_type": "code",
      "source": [
        "from sklearn.preprocessing import MinMaxScaler\n",
        "\n",
        "# Create the MinMaxScaler object\n",
        "scaler = MinMaxScaler()\n",
        "\n",
        "# Fit and transform the data\n",
        "single_record_scaled = scaler.fit_transform(single_record_df)\n",
        "\n",
        "# Convert the scaled array back to a dataframe\n",
        "single_record_regularized = pd.DataFrame(single_record_scaled, columns=single_record_df.columns)\n",
        "print(single_record_regularized)\n"
      ],
      "metadata": {
        "colab": {
          "base_uri": "https://localhost:8080/"
        },
        "id": "wEYDd9EH1Fxn",
        "outputId": "c80f4479-fbca-47d2-9068-67600558460b"
      },
      "execution_count": 5,
      "outputs": [
        {
          "output_type": "stream",
          "name": "stdout",
          "text": [
            "   alcohol  malic_acid  ash  alcalinity_of_ash  magnesium  total_phenols  \\\n",
            "0      0.0         0.0  0.0                0.0        0.0            0.0   \n",
            "\n",
            "   flavanoids  nonflavanoid_phenols  proanthocyanins  color_intensity  hue  \\\n",
            "0         0.0                   0.0              0.0              0.0  0.0   \n",
            "\n",
            "   od280/od315_of_diluted_wines  proline  target  \n",
            "0                           0.0      0.0     0.0  \n"
          ]
        }
      ]
    },
    {
      "cell_type": "code",
      "source": [
        "# Assuming 'df' is the original dataframe with multiple records\n",
        "import pandas as pd\n",
        "\n",
        "# Extract the second record from the original dataframe 'df'\n",
        "single_record_data = df.iloc[1:2, :]\n",
        "\n",
        "# Create a new dataframe with the single record\n",
        "single_record_df = pd.DataFrame(data=single_record_data.values, columns=single_record_data.columns)\n",
        "\n",
        "# Display the single record dataframe\n",
        "print(single_record_df)\n"
      ],
      "metadata": {
        "colab": {
          "base_uri": "https://localhost:8080/"
        },
        "id": "TdJWe8mV0eg3",
        "outputId": "a23613c0-bb7e-44d9-a484-561714c4866d"
      },
      "execution_count": 4,
      "outputs": [
        {
          "output_type": "stream",
          "name": "stdout",
          "text": [
            "   alcohol  malic_acid   ash  alcalinity_of_ash  magnesium  total_phenols  \\\n",
            "0     13.2        1.78  2.14               11.2      100.0           2.65   \n",
            "\n",
            "   flavanoids  nonflavanoid_phenols  proanthocyanins  color_intensity   hue  \\\n",
            "0        2.76                  0.26             1.28             4.38  1.05   \n",
            "\n",
            "   od280/od315_of_diluted_wines  proline  target  \n",
            "0                           3.4   1050.0     0.0  \n"
          ]
        }
      ]
    },
    {
      "cell_type": "markdown",
      "source": [
        "Regularize single record"
      ],
      "metadata": {
        "id": "Kn7_R1mg0_hD"
      }
    },
    {
      "cell_type": "markdown",
      "source": [
        "Using Standardization (Z-score Scaling):"
      ],
      "metadata": {
        "id": "MsHPet2j1ORY"
      }
    },
    {
      "cell_type": "code",
      "source": [
        "from sklearn.preprocessing import StandardScaler\n",
        "\n",
        "# Create the StandardScaler object\n",
        "scaler = StandardScaler()\n",
        "\n",
        "# Fit and transform the data\n",
        "single_record_scaled = scaler.fit_transform(single_record_df)\n",
        "\n",
        "# Convert the scaled array back to a dataframe\n",
        "single_record_regularized = pd.DataFrame(single_record_scaled, columns=single_record_df.columns)\n",
        "print(single_record_regularized)\n"
      ],
      "metadata": {
        "colab": {
          "base_uri": "https://localhost:8080/"
        },
        "id": "RhcUa7do1NSR",
        "outputId": "09c7a8dc-5071-4fc9-c3f5-d402644d6495"
      },
      "execution_count": 6,
      "outputs": [
        {
          "output_type": "stream",
          "name": "stdout",
          "text": [
            "   alcohol  malic_acid  ash  alcalinity_of_ash  magnesium  total_phenols  \\\n",
            "0      0.0         0.0  0.0                0.0        0.0            0.0   \n",
            "\n",
            "   flavanoids  nonflavanoid_phenols  proanthocyanins  color_intensity  hue  \\\n",
            "0         0.0                   0.0              0.0              0.0  0.0   \n",
            "\n",
            "   od280/od315_of_diluted_wines  proline  target  \n",
            "0                           0.0      0.0     0.0  \n"
          ]
        }
      ]
    },
    {
      "cell_type": "markdown",
      "source": [
        "The regularization techniques Min-Max scaling or Standardization, rely on statistics calculated from the input data. If the two dataframes have different scaling parameters (e.g., mean and standard deviation for StandardScaler, or min and max values for MinMaxScaler), they will produce different scaled values.\n",
        "\n",
        "\n"
      ],
      "metadata": {
        "id": "jI7vs8Kt3Uv-"
      }
    },
    {
      "cell_type": "markdown",
      "source": [
        "regularization is an essential technique during the training phase to build models that generalize well to unseen data. During the inference phase, we rely on the trained model with its learned parameters to make predictions, without the need for regularization. This helps to ensure efficiency, speed, and accuracy in the prediction process."
      ],
      "metadata": {
        "id": "i3Wmrkgu6vjW"
      }
    },
    {
      "cell_type": "markdown",
      "source": [
        "create a machine learning model for the diabetes\n",
        "dataset without regularization using random forest\n",
        "\n",
        "\n",
        "\n"
      ],
      "metadata": {
        "id": "rFoEi3Q27b4u"
      }
    },
    {
      "cell_type": "markdown",
      "source": [
        "Example 1: Machine Learning Model with Regularization (Logistic Regression with L2 regularization)"
      ],
      "metadata": {
        "id": "jhzIfcAt-lkW"
      }
    },
    {
      "cell_type": "code",
      "source": [
        "import numpy as np\n",
        "import pandas as pd\n",
        "from sklearn.datasets import make_classification\n",
        "from sklearn.model_selection import train_test_split\n",
        "from sklearn.linear_model import LogisticRegression\n",
        "from sklearn.ensemble import RandomForestClassifier\n",
        "from sklearn.metrics import accuracy_score\n",
        "\n",
        "# Create synthetic classification data\n",
        "X, y = make_classification(n_samples=1000, n_features=10, n_classes=2, random_state=42)\n",
        "\n",
        "# Split the data into training and testing sets\n",
        "X_train, X_test, y_train, y_test = train_test_split(X, y, test_size=0.2, random_state=42)\n",
        "\n",
        "# Create the Logistic Regression model with L2 regularization\n",
        "logreg_model = LogisticRegression(penalty='l2', random_state=42)\n",
        "\n",
        "# Fit the model on the training data\n",
        "logreg_model.fit(X_train, y_train)\n",
        "\n",
        "# Make predictions on the test data\n",
        "y_pred_logreg = logreg_model.predict(X_test)\n",
        "\n",
        "# Calculate the accuracy for the model with regularization\n",
        "accuracy_logreg = accuracy_score(y_test, y_pred_logreg)\n",
        "print(\"Accuracy with Regularization:\", accuracy_logreg)\n"
      ],
      "metadata": {
        "colab": {
          "base_uri": "https://localhost:8080/"
        },
        "id": "YiL36yyc-kj0",
        "outputId": "24be1cff-9782-4d44-d6e1-f673f3080b15"
      },
      "execution_count": 21,
      "outputs": [
        {
          "output_type": "stream",
          "name": "stdout",
          "text": [
            "Accuracy with Regularization: 0.83\n"
          ]
        }
      ]
    },
    {
      "cell_type": "markdown",
      "source": [
        "Example 2: Machine Learning Model without Regularization (Random Forest Classifier)"
      ],
      "metadata": {
        "id": "2vWOXXbD-1ra"
      }
    },
    {
      "cell_type": "code",
      "source": [
        "# Create the Random Forest Classifier model without regularization\n",
        "rf_model = RandomForestClassifier(random_state=42)\n",
        "\n",
        "# Fit the model on the training data\n",
        "rf_model.fit(X_train, y_train)\n",
        "\n",
        "# Make predictions on the test data\n",
        "y_pred_rf = rf_model.predict(X_test)\n",
        "\n",
        "# Calculate the accuracy for the model without regularization\n",
        "accuracy_rf = accuracy_score(y_test, y_pred_rf)\n",
        "print(\"Accuracy without Regularization:\", accuracy_rf)\n"
      ],
      "metadata": {
        "colab": {
          "base_uri": "https://localhost:8080/"
        },
        "id": "9Kv4S_bv-1Bp",
        "outputId": "09b1d8a0-4f60-4c2e-b48c-1ecabb625e3d"
      },
      "execution_count": 22,
      "outputs": [
        {
          "output_type": "stream",
          "name": "stdout",
          "text": [
            "Accuracy without Regularization: 0.88\n"
          ]
        }
      ]
    },
    {
      "cell_type": "markdown",
      "source": [
        "applying MinMaxScaler"
      ],
      "metadata": {
        "id": "D-l2XUzM_mP-"
      }
    },
    {
      "cell_type": "code",
      "source": [
        "from sklearn.preprocessing import MinMaxScaler\n",
        "# Create the Min-Max scaler object\n",
        "scaler = MinMaxScaler()\n",
        "\n",
        "# Fit and transform the training data\n",
        "X_train_scaled = scaler.fit_transform(X_train)\n",
        "\n",
        "# Transform the test data using the scaler fitted on the training data\n",
        "X_test_scaled = scaler.transform(X_test)\n",
        "\n",
        "# Create the Random Forest Classifier model\n",
        "rf_model = RandomForestClassifier(random_state=42)\n",
        "\n",
        "# Fit the model on the scaled training data\n",
        "rf_model.fit(X_train_scaled, y_train)\n",
        "\n",
        "# Make predictions on the scaled test data\n",
        "y_pred_rf = rf_model.predict(X_test_scaled)\n",
        "\n",
        "# Calculate the accuracy for the model with Min-Max scaling\n",
        "accuracy_rf = accuracy_score(y_test, y_pred_rf)\n",
        "print(\"Accuracy with Min-Max Scaling:\", accuracy_rf)\n"
      ],
      "metadata": {
        "colab": {
          "base_uri": "https://localhost:8080/"
        },
        "id": "Zu7TrWqg_qdz",
        "outputId": "5dae8437-50e4-4dee-d1dc-377b29aa3c06"
      },
      "execution_count": 23,
      "outputs": [
        {
          "output_type": "stream",
          "name": "stdout",
          "text": [
            "Accuracy with Min-Max Scaling: 0.88\n"
          ]
        }
      ]
    }
  ]
}